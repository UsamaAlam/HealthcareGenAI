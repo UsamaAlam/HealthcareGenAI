{
 "cells": [
  {
   "cell_type": "markdown",
   "id": "089569ae-9348-4442-8e2a-941a8e5c00ac",
   "metadata": {},
   "source": [
    "# Create Healthcare Agent with Function Definition\n",
    "\n",
    "In this notebook we will create an Agent for Amazon Bedrock using the  function definition.\n",
    "\n",
    "We will create and utilize synthetic data for various patients. Depending on the selected persona, users can access personalized medical support:\n",
    "\n",
    "Average Person: Receives general medical support tailored to a non-professional level.\n",
    "Medical Assistance Persona: Provides a detailed medical assessment, including:\n",
    "Medical conclusions\n",
    "Treatment plan\n",
    "Identification of potential pharmaceutical issues\n",
    "An AWS Lambda function will be used to define the logic for these persona-specific responses.\n"
   ]
  },
  {
   "cell_type": "markdown",
   "id": "073fb566-1bb1-46ec-bdb3-7012a2e74714",
   "metadata": {
    "tags": []
   },
   "source": [
    "## Prerequisites\n",
    "Before starting, let's update the botocore and boto3 packages to ensure we have the latest version"
   ]
  },
  {
   "cell_type": "code",
   "execution_count": 2,
   "id": "c603ce06-61d8-4236-92e8-883e0d49cfea",
   "metadata": {
    "tags": []
   },
   "outputs": [
    {
     "name": "stdout",
     "output_type": "stream",
     "text": [
      "\u001b[31mERROR: pip's dependency resolver does not currently take into account all the packages that are installed. This behaviour is the source of the following dependency conflicts.\n",
      "awscli 1.32.84 requires botocore==1.34.84, but you have botocore 1.35.49 which is incompatible.\n",
      "boto3 1.34.84 requires botocore<1.35.0,>=1.34.84, but you have botocore 1.35.49 which is incompatible.\u001b[0m\u001b[31m\n",
      "\u001b[0m\u001b[33mWARNING: Running pip as the 'root' user can result in broken permissions and conflicting behaviour with the system package manager. It is recommended to use a virtual environment instead: https://pip.pypa.io/warnings/venv\u001b[0m\u001b[33m\n",
      "\u001b[0m\u001b[33mWARNING: Running pip as the 'root' user can result in broken permissions and conflicting behaviour with the system package manager. It is recommended to use a virtual environment instead: https://pip.pypa.io/warnings/venv\u001b[0m\u001b[33m\n",
      "\u001b[0m\u001b[33mWARNING: Running pip as the 'root' user can result in broken permissions and conflicting behaviour with the system package manager. It is recommended to use a virtual environment instead: https://pip.pypa.io/warnings/venv\u001b[0m\u001b[33m\n",
      "\u001b[0m"
     ]
    }
   ],
   "source": [
    "!python3 -m pip install --upgrade -q botocore\n",
    "!python3 -m pip install --upgrade -q boto3\n",
    "!python3 -m pip install --upgrade -q awscli"
   ]
  },
  {
   "cell_type": "markdown",
   "id": "b7f3bc3b-4db6-44bb-8d8e-3ea58e811111",
   "metadata": {},
   "source": [
    "Let's now check the boto3 version to ensure the correct version has been installed. Your version should be greater than or equal to 1.34.90."
   ]
  },
  {
   "cell_type": "code",
   "execution_count": 23,
   "id": "5255655e-d83e-416a-a459-83590483d22b",
   "metadata": {
    "tags": []
   },
   "outputs": [
    {
     "name": "stdout",
     "output_type": "stream",
     "text": [
      "1.35.49\n"
     ]
    }
   ],
   "source": [
    "import boto3\n",
    "import botocore\n",
    "import json\n",
    "import time\n",
    "import zipfile\n",
    "from io import BytesIO\n",
    "import uuid\n",
    "import pprint\n",
    "import logging\n",
    "from botocore.exceptions import ClientError\n",
    "print(boto3.__version__)"
   ]
  },
  {
   "cell_type": "code",
   "execution_count": 24,
   "id": "593be615-dab2-4084-a518-ee905113bfc7",
   "metadata": {
    "tags": []
   },
   "outputs": [],
   "source": [
    "# setting logger -optional-\n",
    "logging.basicConfig(format='[%(asctime)s] p%(process)s {%(filename)s:%(lineno)d} %(levelname)s - %(message)s', level=logging.INFO)\n",
    "logger = logging.getLogger(__name__)"
   ]
  },
  {
   "cell_type": "code",
   "execution_count": 27,
   "id": "0dcb5332-c035-435a-91e5-838ec95d9a7d",
   "metadata": {
    "tags": []
   },
   "outputs": [],
   "source": [
    "# configuration variables\n",
    "suffix = f\"{region}-{account_id}\"\n",
    "agent_name = \"med-function-def\"\n",
    "agent_bedrock_allow_policy_name = f\"{agent_name}-ba-{suffix}\"\n",
    "agent_role_name = f'AmazonBedrockExecutionRoleForAgents_{agent_name}'\n",
    "agent_foundation_model = \"anthropic.claude-3-sonnet-20240229-v1:0\"\n",
    "agent_description = \"Agent for providing Med assistance doctors\"\n",
    "agent_instruction = \"You are Dr Flight Virtual senior doctor in NEOM health giving live advice and guidelines to Dr Reem Jr doctor @ NEOM health , you do speak in advanced medical language about a the follwoing medical case. Based on the patient details in FHIR as well as vcf genetic data  , Dr Reem is expecting to get detailed medical conclusion , genetic assesment in detials including genetic variants / Allele specific risk-associated genetic markers and Treatment plan. the treatment plan should comply with  SAUDI health councile and highlight that. in the discussion please refer to patient by his/her name. if the Foot examination url to check any complications , Dr reem is expecting to get the diagnosis based on the image url . Highlight specific risk-associated genetic markers if the person at risk of dt2m. Detect and explian any pharmacetical issues between if found . conisder the UV index pH water and wather tempreture if needed as yo0u are new virtual assistant clearly recommend to do the proper due diligence till NEOM management give the green light for Dr Flight to be in production\"\n",
    "agent_action_group_name = \"MedActionGroup\"\n",
    "agent_action_group_description = \"Actions for getting patient data for a patient\"\n",
    "agent_alias_name = f\"{agent_name}-alias\"\n",
    "lambda_function_role = f'{agent_name}-lambda-role-{suffix}'\n",
    "lambda_function_name = f'{agent_name}-{suffix}'\n",
    "bucket_name = 'datalake'+suffix"
   ]
  },
  {
   "cell_type": "code",
   "execution_count": 25,
   "id": "67883027-bbb5-42a6-955d-0aa019a8e4b3",
   "metadata": {
    "tags": []
   },
   "outputs": [],
   "source": [
    "# getting boto3 clients for required AWS services\n",
    "sts_client = boto3.client('sts')\n",
    "iam_client = boto3.client('iam')\n",
    "lambda_client = boto3.client('lambda')\n",
    "bedrock_agent_client = boto3.client('bedrock-agent')\n",
    "bedrock_agent_runtime_client = boto3.client('bedrock-agent-runtime')\n",
    "s3_client = boto3.client('s3')\n",
    "iam_client = boto3.client('iam')\n"
   ]
  },
  {
   "cell_type": "markdown",
   "id": "52dad4b8-c2e0-44cf-99ee-5c2a7e1a600f",
   "metadata": {},
   "source": [
    "Let's now create sample datalake"
   ]
  },
  {
   "cell_type": "code",
   "execution_count": 28,
   "id": "0f7f6022-2a57-44b7-aed9-ae2821978ac6",
   "metadata": {
    "tags": []
   },
   "outputs": [
    {
     "name": "stdout",
     "output_type": "stream",
     "text": [
      "Bucket 'datalakeus-east-1-377146168043' created successfully.\n"
     ]
    }
   ],
   "source": [
    "import boto3\n",
    "from botocore.exceptions import ClientError\n",
    "\n",
    "# Initialize the S3 client\n",
    "s3_client = boto3.client('s3')\n",
    "region = boto3.Session().region_name\n",
    "\n",
    "# Function to create the bucket\n",
    "def create_bucket(bucket_name, region):\n",
    "    try:\n",
    "        if region == 'us-east-1':\n",
    "            s3_client.create_bucket(Bucket=bucket_name)\n",
    "        else:\n",
    "            s3_client.create_bucket(\n",
    "                Bucket=bucket_name,\n",
    "                CreateBucketConfiguration={'LocationConstraint': region}\n",
    "            )\n",
    "        print(f\"Bucket '{bucket_name}' created successfully.\")\n",
    "    except ClientError as e:\n",
    "        if e.response['Error']['Code'] == 'BucketAlreadyOwnedByYou':\n",
    "            print(f\"Bucket '{bucket_name}' already exists and is owned by you.\")\n",
    "        elif e.response['Error']['Code'] == 'BucketAlreadyExists':\n",
    "            print(f\"Bucket '{bucket_name}' already exists. Try a different name.\")\n",
    "        else:\n",
    "            print(f\"Failed to create bucket: {e}\")\n",
    "\n",
    "# Call the function to create the bucket\n",
    "create_bucket(bucket_name, region)\n"
   ]
  },
  {
   "cell_type": "code",
   "execution_count": 26,
   "id": "f6af5cd4-33b8-40c3-9d99-1790540eb60c",
   "metadata": {
    "tags": []
   },
   "outputs": [
    {
     "data": {
      "text/plain": [
       "('us-east-1', '377146168043')"
      ]
     },
     "execution_count": 26,
     "metadata": {},
     "output_type": "execute_result"
    }
   ],
   "source": [
    "session = boto3.session.Session()\n",
    "region = session.region_name\n",
    "account_id = sts_client.get_caller_identity()[\"Account\"]\n",
    "region, account_id"
   ]
  },
  {
   "cell_type": "code",
   "execution_count": 30,
   "id": "54f0f85d-f763-466e-97f4-9d01fb5e429c",
   "metadata": {
    "tags": []
   },
   "outputs": [
    {
     "name": "stdout",
     "output_type": "stream",
     "text": [
      "patient_1.vcf uploaded to datalakeus-east-1-377146168043\n",
      "patient_2.vcf uploaded to datalakeus-east-1-377146168043\n",
      "patient_3.vcf uploaded to datalakeus-east-1-377146168043\n"
     ]
    }
   ],
   "source": [
    "import boto3\n",
    "from datetime import datetime\n",
    "# Initialize S3 client\n",
    "\n",
    "def create_vcf(patient_id, variants, bucket_name):\n",
    "    \"\"\"\n",
    "    Creates a VCF file for a patient and uploads it to an S3 bucket.\n",
    "    \"\"\"\n",
    "    # Define VCF header\n",
    "    vcf_header = (\n",
    "        \"##fileformat=VCFv4.2\\n\"\n",
    "        f\"##fileDate={datetime.today().strftime('%Y%m%d')}\\n\"\n",
    "        \"##source=GenomicDataTool\\n\"\n",
    "        \"#CHROM\\tPOS\\tID\\tREF\\tALT\\tQUAL\\tFILTER\\tINFO\\n\"\n",
    "    )\n",
    "    \n",
    "    # Generate VCF content\n",
    "    vcf_content = vcf_header\n",
    "    for variant in variants:\n",
    "        vcf_content += f\"{variant['chrom']}\\t{variant['pos']}\\t{variant['id']}\\t{variant['ref']}\\t{variant['alt']}\\t.\\tPASS\\t{variant['info']}\\n\"\n",
    "    \n",
    "    # Define VCF file name\n",
    "    vcf_filename = f\"patient_{patient_id}.vcf\"\n",
    "    \n",
    "    # Write content to file\n",
    "    with open(vcf_filename, \"w\") as file:\n",
    "        file.write(vcf_content)\n",
    "    \n",
    "    # Upload to S3\n",
    "    s3.upload_file(vcf_filename, bucket_name, vcf_filename)\n",
    "    print(f\"{vcf_filename} uploaded to {bucket_name}\")\n",
    "\n",
    "# Example usage for three patients\n",
    "\n",
    "patients = [\n",
    "    {\"id\": 1, \"variants\": [{\"chrom\": \"1\", \"pos\": \"12345\", \"id\": \".\", \"ref\": \"A\", \"alt\": \"T\", \"info\": \"GENE=GEN1;RISK=T2D\"}]},\n",
    "    {\"id\": 2, \"variants\": [{\"chrom\": \"2\", \"pos\": \"67890\", \"id\": \".\", \"ref\": \"G\", \"alt\": \"C\", \"info\": \"GENE=GEN2\"}]},\n",
    "    {\"id\": 3, \"variants\": [{\"chrom\": \"3\", \"pos\": \"54321\", \"id\": \".\", \"ref\": \"T\", \"alt\": \"G\", \"info\": \"GENE=GEN3\"}]}\n",
    "]\n",
    "\n",
    "for patient in patients:\n",
    "    create_vcf(patient[\"id\"], patient[\"variants\"], bucket_name)\n"
   ]
  },
  {
   "cell_type": "markdown",
   "id": "71505c3b-c2a5-47dc-a427-77f21ab50f0d",
   "metadata": {},
   "source": [
    "Next lets create FHIR reocrds for patients"
   ]
  },
  {
   "cell_type": "code",
   "execution_count": 29,
   "id": "a91d07fd-1b3e-40ba-a471-6272873db810",
   "metadata": {
    "tags": []
   },
   "outputs": [
    {
     "name": "stdout",
     "output_type": "stream",
     "text": [
      "File '1.json' uploaded successfully to bucket 'datalakeus-east-1-377146168043'.\n",
      "File '2.json' uploaded successfully to bucket 'datalakeus-east-1-377146168043'.\n",
      "File '3.json' uploaded successfully to bucket 'datalakeus-east-1-377146168043'.\n"
     ]
    }
   ],
   "source": [
    "import json\n",
    "import boto3\n",
    "\n",
    "# Initialize the S3 client\n",
    "s3_client = boto3.client(\"s3\")\n",
    "\n",
    "def create_fhir_patient_files(bucket_name):\n",
    "    # Define sample patient data templates with diabetes-related measurements\n",
    "    patients = [\n",
    "        {\n",
    "            \"id\": \"1\",\n",
    "            \"name\": {\"family\": \"AlShemmary\", \"given\": [\"Arwa\"]},\n",
    "            \"gender\": \"female\",\n",
    "            \"birthDate\": \"1985-09-29\",\n",
    "            \"maritalStatus\": \"D\",\n",
    "            \"generalPractitioner\": \"Dr. Smith\",\n",
    "            \"is_healthy\": False,\n",
    "            \"blood_pressure\": \"120/80\",\n",
    "            \"fasting_glucose\": 90,\n",
    "            \"postprandial_glucose\": 120,\n",
    "            \"HbA1c\": 5.4,\n",
    "            \"LDL\": 70,\n",
    "            \"HDL\": 60,\n",
    "            \"Triglycerides\": 150,\n",
    "            \"BMI\": 25,\n",
    "            \"SerumCreatinine\": 0.9\n",
    "        },\n",
    "        {\n",
    "            \"id\": \"2\",\n",
    "            \"name\": {\"family\": \"Smith\", \"given\": [\"John\"]},\n",
    "            \"gender\": \"male\",\n",
    "            \"birthDate\": \"1990-02-15\",\n",
    "            \"maritalStatus\": \"M\",\n",
    "            \"generalPractitioner\": \"Dr. James\",\n",
    "            \"is_healthy\": False,\n",
    "            \"blood_pressure\": \"130/85\",\n",
    "            \"fasting_glucose\": 105,\n",
    "            \"postprandial_glucose\": 150,\n",
    "            \"HbA1c\": 6.5,\n",
    "            \"LDL\": 90,\n",
    "            \"HDL\": 55,\n",
    "            \"Triglycerides\": 180,\n",
    "            \"BMI\": 28,\n",
    "            \"SerumCreatinine\": 1.0\n",
    "        },\n",
    "        {\n",
    "            \"id\": \"3\",\n",
    "            \"name\": {\"family\": \"Doe\", \"given\": [\"Jane\"]},\n",
    "            \"gender\": \"female\",\n",
    "            \"birthDate\": \"1975-11-11\",\n",
    "            \"maritalStatus\": \"W\",\n",
    "            \"generalPractitioner\": \"Dr. Susan\",\n",
    "            \"is_healthy\": True,\n",
    "            \"blood_pressure\": \"115/75\",\n",
    "            \"fasting_glucose\": 85,\n",
    "            \"postprandial_glucose\": 110,\n",
    "            \"HbA1c\": 5.0,\n",
    "            \"LDL\": 60,\n",
    "            \"HDL\": 65,\n",
    "            \"Triglycerides\": 140,\n",
    "            \"BMI\": 23,\n",
    "            \"SerumCreatinine\": 0.8\n",
    "        }\n",
    "    ]\n",
    "    \n",
    "    # Generate FHIR JSON files for each patient and upload to S3\n",
    "    for patient in patients:\n",
    "        fhir_data = {\n",
    "            \"resourceType\": \"Patient\",\n",
    "            \"id\": patient[\"id\"],\n",
    "            \"identifier\": [\n",
    "                {\n",
    "                    \"system\": \"http://example.org/patientID\",\n",
    "                    \"value\": patient[\"id\"]\n",
    "                }\n",
    "            ],\n",
    "            \"name\": [\n",
    "                {\n",
    "                    \"use\": \"official\",\n",
    "                    \"family\": patient[\"name\"][\"family\"],\n",
    "                    \"given\": patient[\"name\"][\"given\"]\n",
    "                }\n",
    "            ],\n",
    "            \"gender\": patient[\"gender\"],\n",
    "            \"birthDate\": patient[\"birthDate\"],\n",
    "            \"maritalStatus\": {\n",
    "                \"coding\": [\n",
    "                    {\n",
    "                        \"system\": \"http://hl7.org/fhir/v3/MaritalStatus\",\n",
    "                        \"code\": patient[\"maritalStatus\"],\n",
    "                        \"display\": \"Married\" if patient[\"maritalStatus\"] == \"M\" else \"Divorced\"\n",
    "                    }\n",
    "                ]\n",
    "            },\n",
    "            \"generalPractitioner\": [\n",
    "                {\n",
    "                    \"reference\": \"Practitioner/123\",\n",
    "                    \"display\": patient[\"generalPractitioner\"]\n",
    "                }\n",
    "            ],\n",
    "            \"extension\": [\n",
    "                {\"url\": \"http://hl7.org/fhir/StructureDefinition/patient-FastingBloodGlucose\", \"valueDecimal\": patient[\"fasting_glucose\"]},\n",
    "                {\"url\": \"http://hl7.org/fhir/StructureDefinition/patient-PostprandialBloodGlucose\", \"valueDecimal\": patient[\"postprandial_glucose\"]},\n",
    "                {\"url\": \"http://hl7.org/fhir/StructureDefinition/patient-HbA1cTest\", \"valueDecimal\": patient[\"HbA1c\"]},\n",
    "                {\"url\": \"http://hl7.org/fhir/StructureDefinition/patient-BloodPressure\", \"valueString\": patient[\"blood_pressure\"]},\n",
    "                {\"url\": \"http://hl7.org/fhir/StructureDefinition/patient-LDL\", \"valueDecimal\": patient[\"LDL\"]},\n",
    "                {\"url\": \"http://hl7.org/fhir/StructureDefinition/patient-HDL\", \"valueDecimal\": patient[\"HDL\"]},\n",
    "                {\"url\": \"http://hl7.org/fhir/StructureDefinition/patient-Triglycerides\", \"valueDecimal\": patient[\"Triglycerides\"]},\n",
    "                {\"url\": \"http://hl7.org/fhir/StructureDefinition/patient-BMI\", \"valueDecimal\": patient[\"BMI\"]},\n",
    "                {\"url\": \"http://hl7.org/fhir/StructureDefinition/patient-SerumCreatinine\", \"valueDecimal\": patient[\"SerumCreatinine\"]},\n",
    "                {\"url\": \"http://hl7.org/fhir/StructureDefinition/patient-Smoking\", \"valueString\": \"No\" if patient[\"is_healthy\"] else \"Yes\"}\n",
    "            ]\n",
    "        }\n",
    "        \n",
    "        # Convert to JSON and upload to S3\n",
    "        file_name = f\"{patient['id']}.json\"\n",
    "        json_data = json.dumps(fhir_data, indent=2)\n",
    "        \n",
    "        try:\n",
    "            s3_client.put_object(Bucket=bucket_name, Key=file_name, Body=json_data)\n",
    "            print(f\"File '{file_name}' uploaded successfully to bucket '{bucket_name}'.\")\n",
    "        except Exception as e:\n",
    "            print(f\"Error uploading file '{file_name}': {e}\")\n",
    "\n",
    "# Call the function with your S3 bucket name\n",
    "create_fhir_patient_files(bucket_name)\n"
   ]
  },
  {
   "cell_type": "markdown",
   "id": "b43e992c",
   "metadata": {},
   "source": [
    "Now we gonna validate the logic will be used to deine lamda function to be used by the Med assitant agent"
   ]
  },
  {
   "cell_type": "code",
   "execution_count": 19,
   "id": "d6315323-eba9-4d94-b1c5-b439b26053da",
   "metadata": {
    "tags": []
   },
   "outputs": [],
   "source": [
    "import boto3\n",
    "\n",
    "def get_ehr_data( key):\n",
    "    # Create an S3 client\n",
    "    s3 = boto3.client('s3')\n",
    "   \n",
    "    file_key = key+'.json'\n",
    "\n",
    "    try:\n",
    "        # Get the object containing the file content\n",
    "        response = s3.get_object(Bucket=bucket_name, Key=file_key)\n",
    "\n",
    "        # Read and return the content as a string\n",
    "        file_content = response['Body'].read().decode('utf-8')\n",
    "        return file_content\n",
    "    except Exception as e:\n",
    "        return 'No relevant data found'\n",
    "def get_gen_data( key):\n",
    "    # Create an S3 client\n",
    "    s3 = boto3.client('s3')\n",
    "   \n",
    "    file_key = key+'.vcf'\n",
    "\n",
    "    try:\n",
    "        # Get the object containing the file content\n",
    "        response = s3.get_object(Bucket=bucket_name, Key=file_key)\n",
    "\n",
    "        # Read and return the content as a string\n",
    "        file_content = response['Body'].read().decode('utf-8')\n",
    "        return file_content\n",
    "    except Exception as e:\n",
    "     \n",
    "        return 'No relevant data found'\n",
    "    \n",
    "def get_all_data(patient_id):\n",
    "    return \"FHIR data\"+ get_ehr_data(patient_id)+\" Genmoics data \" + get_gen_data(patient_id)\n"
   ]
  },
  {
   "cell_type": "markdown",
   "id": "40325ffc-b89e-4f44-813b-a7c7b3f1f977",
   "metadata": {
    "jp-MarkdownHeadingCollapsed": true,
    "tags": []
   },
   "source": [
    "## Creating Lambda Function\n",
    "\n",
    "We will now create a lambda function that interacts with the simple datalake  To do so we will:\n",
    "\n",
    "1. Create the `lambda_function.py` file which contains the logic for our lambda function\n",
    "2. Create the IAM role for our Lambda function\n",
    "4. Create the lambda function infrastructure with the required permissions"
   ]
  },
  {
   "cell_type": "markdown",
   "id": "4f63b906-9eff-4b99-a466-5aeb81e0d095",
   "metadata": {},
   "source": [
    "Let's now create our lambda function. It implements the functionality for `get_med_data` for a given patient-id "
   ]
  },
  {
   "cell_type": "code",
   "execution_count": 21,
   "id": "476a71a8-61c1-4dd4-89a1-6ac59f38cd3d",
   "metadata": {
    "tags": []
   },
   "outputs": [
    {
     "name": "stdout",
     "output_type": "stream",
     "text": [
      "Overwriting lambda_function.py\n"
     ]
    }
   ],
   "source": [
    "%%writefile lambda_function.py\n",
    "import os\n",
    "import json\n",
    "import shutil\n",
    "import sqlite3\n",
    "from datetime import datetime\n",
    "import boto3\n",
    "\n",
    "def get_ehr_data(key):\n",
    "    # Create an S3 client\n",
    "    s3 = boto3.client('s3')\n",
    "   \n",
    "    file_key = key+'.json'\n",
    "\n",
    "    try:\n",
    "        # Get the object containing the file content\n",
    "        response = s3.get_object(Bucket=bucket_name, Key=file_key)\n",
    "\n",
    "        # Read and return the content as a string\n",
    "        file_content = response['Body'].read().decode('utf-8')\n",
    "        return file_content\n",
    "    except Exception as e:\n",
    "        return 'No relevant data found'\n",
    "def get_gen_data(key):\n",
    "    # Create an S3 client\n",
    "    s3 = boto3.client('s3')\n",
    "   \n",
    "    file_key = key+'.vcf'\n",
    "\n",
    "    try:\n",
    "        # Get the object containing the file content\n",
    "        response = s3.get_object(Bucket=bucket_name, Key=file_key)\n",
    "\n",
    "        # Read and return the content as a string\n",
    "        file_content = response['Body'].read().decode('utf-8')\n",
    "        return file_content\n",
    "    except Exception as e:\n",
    "     \n",
    "        return 'No relevant data found'\n",
    "    \n",
    "def get_med_data(patient_id):\n",
    "    return \"FHIR data\"+ get_ehr_data(patient_id)+\" Genmoics data \" + get_gen_data(patient_id)\n",
    "\n",
    "\n",
    "def lambda_handler(event, context):\n",
    "    \n",
    "    agent = event['agent']\n",
    "    actionGroup = event['actionGroup']\n",
    "    function = event['function']\n",
    "    parameters = event.get('parameters', [])\n",
    "    responseBody =  {\n",
    "        \"TEXT\": {\n",
    "            \"body\": \"Error, no function was called\"\n",
    "        }\n",
    "    }\n",
    "\n",
    "\n",
    "    \n",
    "    if function == 'get_med_data':\n",
    "        patient_id = None\n",
    "        for param in parameters:\n",
    "            if param[\"name\"] == \"patient_id\":\n",
    "                patient_id = param[\"value\"]\n",
    "\n",
    "        if not patient_id:\n",
    "            raise Exception(\"Missing mandatory parameter: patient_id\")\n",
    "        alldata = get_med_data(patient_id)\n",
    "        responseBody =  {\n",
    "            'TEXT': {\n",
    "                \"body\": f\"EHR data and Genom data for patient_id {patient_id}: {alldata}\"\n",
    "            }\n",
    "        }\n",
    "\n",
    "    action_response = {\n",
    "        'actionGroup': actionGroup,\n",
    "        'function': function,\n",
    "        'functionResponse': {\n",
    "            'responseBody': responseBody\n",
    "        }\n",
    "\n",
    "    }\n",
    "\n",
    "    function_response = {'response': action_response, 'messageVersion': event['messageVersion']}\n",
    "    print(\"Response: {}\".format(function_response))\n",
    "\n",
    "    return function_response\n"
   ]
  },
  {
   "cell_type": "code",
   "execution_count": 20,
   "id": "b83f16f8-9081-4e6b-b528-18088f555682",
   "metadata": {
    "tags": []
   },
   "outputs": [
    {
     "data": {
      "text/plain": [
       "'FHIR data{\\r\\n    \"resourceType\": \"Patient\",\\r\\n    \"id\": \"4\",\\r\\n    \"identifier\": [\\r\\n      {\\r\\n        \"system\": \"http://example.org/patientID\",\\r\\n        \"value\": \"4\"\\r\\n      }\\r\\n    ],\\r\\n    \"name\": [\\r\\n      {\\r\\n        \"use\": \"official\",\\r\\n        \"family\": \"AlShemmary\",\\r\\n        \"given\": [\"Arwa\"]\\r\\n      }\\r\\n    ],\\r\\n    \"gender\": \"female\",\\r\\n    \"birthDate\": \"1985-09-29\",\\r\\n    \"maritalStatus\": {\\r\\n      \"coding\": [\\r\\n        {\\r\\n          \"system\": \"http://hl7.org/fhir/v3/MaritalStatus\",\\r\\n          \"code\": \"D\",\\r\\n          \"display\": \"Divorced\"\\r\\n        }\\r\\n      ]\\r\\n    },\\r\\n    \"multipleBirthBoolean\": false,\\r\\n    \"extension\": [\\r\\n      {\\r\\n        \"url\": \"http://hl7.org/fhir/StructureDefinition/patient-pregnant\",\\r\\n        \"valueBoolean\": false\\r\\n      }\\r\\n    ],\\r\\n    \"generalPractitioner\": [\\r\\n      {\\r\\n        \"reference\": \"Practitioner/123\",\\r\\n        \"display\": \"Dr. Smith\"\\r\\n      }\\r\\n    ],\\r\\n   \\r\\n    \"contact\": [\\r\\n      {\\r\\n        \"relationship\": [\\r\\n          {\\r\\n            \"coding\": [\\r\\n              {\\r\\n                \"system\": \"http://terminology.hl7.org/CodeSystem/v2-0131\",\\r\\n                \"code\": \"N\",\\r\\n                \"display\": \"Next of Kin\"\\r\\n              }\\r\\n            ]\\r\\n          }\\r\\n        ],\\r\\n        \"name\": {\\r\\n          \"use\": \"usual\",\\r\\n          \"family\": \"Ahamad\",\\r\\n          \"given\": [\"Alshemary\"]\\r\\n        },\\r\\n        \"telecom\": [\\r\\n          {\\r\\n            \"system\": \"phone\",\\r\\n            \"value\": \"555-555-5555\",\\r\\n            \"use\": \"home\"\\r\\n          }\\r\\n        ]\\r\\n      }\\r\\n    ],\\r\\n    \"communication\": [\\r\\n      {\\r\\n        \"language\": {\\r\\n          \"coding\": [\\r\\n            {\\r\\n              \"system\": \"urn:ietf:bcp:47\",\\r\\n              \"code\": \"en\",\\r\\n              \"display\": \"English\"\\r\\n            }\\r\\n          ],\\r\\n          \"text\": \"English\"\\r\\n        }\\r\\n      }\\r\\n    ],\\r\\n    \"extension\": [\\r\\n      {\\r\\n        \"url\": \"http://hl7.org/fhir/StructureDefinition/patient-FastingBloodGlucose\",\\r\\n        \"valueDecimal\": 90\\r\\n      },\\r\\n      {\\r\\n        \"url\": \"http://hl7.org/fhir/StructureDefinition/patient-PostprandialBloodGlucose\",\\r\\n        \"valueDecimal\": 120\\r\\n      },\\r\\n      {\\r\\n        \"url\": \"http://hl7.org/fhir/StructureDefinition/patient-HbA1cTest\",\\r\\n        \"valueDecimal\": 5.4\\r\\n      },\\r\\n      {\\r\\n        \"url\": \"http://hl7.org/fhir/StructureDefinition/patient-BloodPressure\",\\r\\n        \"valueString\": \"120/80\"\\r\\n      },\\r\\n      {\\r\\n        \"url\": \"http://hl7.org/fhir/StructureDefinition/patient-LDL\",\\r\\n        \"valueDecimal\": 70\\r\\n      },\\r\\n      {\\r\\n        \"url\": \"http://hl7.org/fhir/StructureDefinition/patient-HDL\",\\r\\n        \"valueDecimal\": 60\\r\\n      },\\r\\n      {\\r\\n        \"url\": \"http://hl7.org/fhir/StructureDefinition/patient-Triglycerides\",\\r\\n        \"valueDecimal\": 150\\r\\n      },\\r\\n      {\\r\\n        \"url\": \"http://hl7.org/fhir/StructureDefinition/patient-BMI\",\\r\\n        \"valueDecimal\": 25\\r\\n      },\\r\\n      {\\r\\n        \"url\": \"http://hl7.org/fhir/StructureDefinition/patient-UrineAlbumin-to-CreatinineRatio\",\\r\\n        \"valueDecimal\": 10\\r\\n      },\\r\\n      {\\r\\n        \"url\": \"http://hl7.org/fhir/StructureDefinition/patient-SerumCreatinine\",\\r\\n        \"valueDecimal\": 0.9\\r\\n      },\\r\\n      {\\r\\n        \"url\": \"http://hl7.org/fhir/StructureDefinition/patient-NPDR\",\\r\\n        \"valueString\": \"No\"\\r\\n      },\\r\\n      {\\r\\n        \"url\": \"http://hl7.org/fhir/StructureDefinition/patient-PDR\",\\r\\n        \"valueString\": \"No\"\\r\\n      },\\r\\n      {\\r\\n        \"url\": \"http://hl7.org/fhir/StructureDefinition/patient-MacularEdema\",\\r\\n        \"valueString\": \"No\"\\r\\n      },\\r\\n      {\\r\\n        \"url\": \"http://hl7.org/fhir/StructureDefinition/patient-Smoking\",\\r\\n        \"valueString\": \"No\"\\r\\n      },\\r\\n      {\\r\\n        \"url\": \"http://hl7.org/fhir/StructureDefinition/patient-Diet\",\\r\\n        \"valueString\": \"Low carb diet\"\\r\\n      },\\r\\n      {\\r\\n        \"url\": \"http://hl7.org/fhir/StructureDefinition/patient-PhysicalActivities\",\\r\\n        \"valueString\": \"10000 steps/day\"\\r\\n      },\\r\\n      {\\r\\n        \"url\": \"http://hl7.org/fhir/StructureDefinition/patient-FamilyHistory\",\\r\\n        \"valueString\": \"No family history of diabetes\"\\r\\n      }\\r\\n    ]\\r\\n  }\\r\\n   Genmoics data #CHROM\\tPOS\\tID\\tREF\\tALT\\tQUAL\\tFILTER\\tINFO\\tFORMAT\\tEBI-a-GCST006867\\r\\n1\\t785050\\trs2905062\\tG\\tA\\t.\\tPASS\\tAF=0.868025\\tES:SE:LP:AF:ID\\t-0.0082:0.0116:0.319574:0.868025:rs2905062\\r\\n1\\t1087683\\trs9442380\\tT\\tC\\t.\\tPASS\\tAF=0.935157\\tES:SE:LP:AF:ID\\t-0.0016:0.0161:0.0355989:0.935157:rs9442380\\r\\n1\\t1090010\\trs9442361\\tC\\tA\\t.\\tPASS\\tAF=0.932943\\tES:SE:LP:AF:ID\\t-0.0061:0.0157:0.158015:0.932943:rs9442361\\r\\n1\\t1092599\\trs56863140\\tG\\tC\\t.\\tPASS\\tAF=0.932852\\tES:SE:LP:AF:ID\\t-0.0046:0.0156:0.115488:0.932852:rs56863140\\r\\n1\\t1096908\\trs1539636\\tT\\tC\\t.\\tPASS\\tAF=0.931706\\tES:SE:LP:AF:ID\\t-0.0069:0.0155:0.183759:0.931706:rs1539636\\r\\n1\\t1097100\\trs1539634\\tC\\tT\\t.\\tPASS\\tAF=0.932811\\tES:SE:LP:AF:ID\\t-0.0078:0.0156:0.20859:0.932811:rs1539634\\r\\n1\\t1097287\\trs9442384\\tT\\tC\\t.\\tPASS\\tAF=0.933079\\tES:SE:LP:AF:ID\\t-0.0069:0.0156:0.179667:0.933079:rs9442384\\r\\n1\\t1122539\\trs12063897\\tA\\tG\\t.\\tPASS\\tAF=0.0915407\\tES:SE:LP:AF:ID\\t0.0303:0.0139:1.53641:0.0915407:rs12063897\\r\\n1\\t1122916\\trs28460227\\tA\\tG\\t.\\tPASS\\tAF=0.0913276\\tES:SE:LP:AF:ID\\t0.0297:0.0139:1.48999:0.0913276:rs28460227\\r\\n1\\t1122937\\trs28648687\\tG\\tA\\t.\\tPASS\\tAF=0.091416\\tES:SE:LP:AF:ID\\t0.0297:0.0139:1.49201:0.091416:rs28648687\\r\\n1\\t1124819\\trs6694487\\tC\\tT\\t.\\tPASS\\tAF=0.0916791\\tES:SE:LP:AF:ID\\t0.0308:0.0139:1.58153:0.0916791:rs6694487\\r\\n1\\t1125220\\trs12065129\\tC\\tT\\t.\\tPASS\\tAF=0.0915307\\tES:SE:LP:AF:ID\\t0.0314:0.0139:1.62949:0.0915307:rs12065129\\r\\n1\\t1127101\\trs9659458\\tC\\tA\\t.\\tPASS\\tAF=0.0915671\\tES:SE:LP:AF:ID\\t0.0309:0.0139:1.58386:0.0915671:rs9659458\\r\\n1\\t1127137\\trs12062271\\tA\\tC\\t.\\tPASS\\tAF=0.0921988\\tES:SE:LP:AF:ID\\t0.0312:0.0138:1.62142:0.0921988:rs12062271\\r\\n1\\t1127330\\trs12061357\\tC\\tT\\t.\\tPASS\\tAF=0.0943436\\tES:SE:LP:AF:ID\\t0.0312:0.0137:1.64589:0.0943436:rs12061357\\r\\n1\\t1129122\\trs9659213\\tG\\tC\\t.\\tPASS\\tAF=0.0919861\\tES:SE:LP:AF:ID\\t0.0325:0.0138:1.72886:0.0919861:rs9659213\\r\\n1\\t1129789\\trs12060374\\tG\\tC\\t.\\tPASS\\tAF=0.0919428\\tES:SE:LP:AF:ID\\t0.0313:0.0138:1.62415:0.0919428:rs12060374\\r\\n1\\t1129920\\trs12060422\\tG\\tA\\t.\\tPASS\\tAF=0.0920677\\tES:SE:LP:AF:ID\\t0.0316:0.0138:1.65092:0.0920677:rs12060422\\r\\n1\\t1130727\\trs10907175\\tA\\tC\\t.\\tPASS\\tAF=0.0912872\\tES:SE:LP:AF:ID\\t0.0325:0.0138:1.73779:0.0912872:rs10907175\\r\\n1\\t1130855\\trs10907176\\tT\\tC\\t.\\tPASS\\tAF=0.083123\\tES:SE:LP:AF:ID\\t0.025:0.0145:1.07397:0.083123:rs10907176\\r\\n1\\t1131052\\trs12066103\\tC\\tT\\t.\\tPASS\\tAF=0.0918153\\tES:SE:LP:AF:ID\\t0.0312:0.0138:1.61279:0.0918153:rs12066103\\r\\n1\\t1131236\\trs12062042\\tG\\tT\\t.\\tPASS\\tAF=0.0914339\\tES:SE:LP:AF:ID\\t0.0311:0.0139:1.59843:0.0914339:rs12062042\\r\\n1\\t1472873\\trs4259576\\tT\\tA\\t.\\tPASS\\tAF=0.303646\\tES:SE:LP:AF:ID\\t0.0063:0.0086:0.335076:0.303646:rs4259576\\r\\n1\\t1474167\\trs1571149\\tA\\tG\\t.\\tPASS\\tAF=0.318991\\tES:SE:LP:AF:ID\\t0.0077:0.0084:0.440333:0.318991:rs1571149\\r\\n1\\t1474304\\trs1571150\\tC\\tA\\t.\\tPASS\\tAF=0.298446\\tES:SE:LP:AF:ID\\t0.0066:0.0086:0.353106:0.298446:rs1571150\\r\\n1\\t1474871\\trs9439465\\tG\\tC\\t.\\tPASS\\tAF=0.30418\\tES:SE:LP:AF:ID\\t0.0069:0.0084:0.381743:0.30418:rs9439465\\r\\n1\\t1477244\\trs7290\\tT\\tC\\t.\\tPASS\\tAF=0.289866\\tES:SE:LP:AF:ID\\t0.0078:0.0086:0.435926:0.289866:rs7290\\r\\n1\\t1478153\\trs3766180\\tT\\tC\\t.\\tPASS\\tAF=0.286858\\tES:SE:LP:AF:ID\\t0.0073:0.0085:0.407934:0.286858:rs3766180\\r\\n1\\t1478173\\trs3766179\\tC\\tG\\t.\\tPASS\\tAF=0.287991\\tES:SE:LP:AF:ID\\t0.0077:0.0087:0.42539:0.287991:rs3766179\\r\\n1\\t1478180\\trs3766178\\tT\\tC\\t.\\tPASS\\tAF=0.286942\\tES:SE:LP:AF:ID\\t0.0075:0.0086:0.414765:0.286942:rs3766178\\r\\n1\\t1478880\\trs6665973\\tT\\tG\\t.\\tPASS\\tAF=0.289795\\tES:SE:LP:AF:ID\\t0.0079:0.0086:0.446481:0.289795:rs6665973\\r\\n1\\t1479333\\trs7533\\tA\\tG\\t.\\tPASS\\tAF=0.289445\\tES:SE:LP:AF:ID\\t0.0077:0.0087:0.429457:0.289445:rs7533\\r\\n1\\t1481175\\trs9329413\\tC\\tA\\t.\\tPASS\\tAF=0.289375\\tES:SE:LP:AF:ID\\t0.0076:0.0086:0.422623:0.289375:rs9329413\\r\\n1\\t1483010\\trs7517401\\tG\\tA\\t.\\tPASS\\tAF=0.316601\\tES:SE:LP:AF:ID\\t0.0075:0.0085:0.423313:0.316601:rs7517401\\r\\n1\\t1484970\\trs7515814\\tC\\tG\\t.\\tPASS\\tAF=0.319279\\tES:SE:LP:AF:ID\\t0.0063:0.0085:0.335076:0.319279:rs7515814\\r\\n1\\t1489072\\trs3930748\\tA\\tG\\t.\\tPASS\\tAF=0.319526\\tES:SE:LP:AF:ID\\t0.0055:0.0083:0.291919:0.319526:rs3930748\\r\\n1\\t1489670\\trs7531530\\tC\\tT\\t.\\tPASS\\tAF=0.273102\\tES:SE:LP:AF:ID\\t0.009:0.0088:0.513428:0.273102:rs7531530\\r\\n1\\t1489928\\trs7366884\\tT\\tC\\t.\\tPASS\\tAF=0.272689\\tES:SE:LP:AF:ID\\t0.0083:0.0088:0.460422:0.272689:rs7366884\\r\\n1\\t1490074\\trs7366635\\tA\\tG\\t.\\tPASS\\tAF=0.321041\\tES:SE:LP:AF:ID\\t0.0061:0.0082:0.334419:0.321041:rs7366635\\r\\n1\\t1490161\\trs3753332\\tA\\tG\\t.\\tPASS\\tAF=0.321099\\tES:SE:LP:AF:ID\\t0.0065:0.0084:0.357239:0.321099:rs3753332\\r\\n1\\t1490232\\trs3753331\\tT\\tC\\t.\\tPASS\\tAF=0.320995\\tES:SE:LP:AF:ID\\t0.006:0.0085:0.321027:0.320995:rs3753331\\r\\n1\\t1490559\\trs3820075\\tA\\tG\\t.\\tPASS\\tAF=0.272986\\tES:SE:LP:AF:ID\\t0.0077:0.0088:0.414539:0.272986:rs3820075\\r\\n1\\t1490627\\trs3753330\\tT\\tA\\t.\\tPASS\\tAF=0.321085\\tES:SE:LP:AF:ID\\t0.0059:0.0083:0.319846:0.321085:rs3753330\\r\\n1\\t1491251\\trs12048706\\tT\\tC\\t.\\tPASS\\tAF=0.273645\\tES:SE:LP:AF:ID\\t0.0065:0.0088:0.339135:0.273645:rs12048706\\r\\n1\\t1495083\\trs6667347\\tG\\tC\\t.\\tPASS\\tAF=0.305127\\tES:SE:LP:AF:ID\\t0.0055:0.0086:0.280834:0.305127:rs6667347\\r\\n1\\t1496145\\trs12410854\\tT\\tC\\t.\\tPASS\\tAF=0.274505\\tES:SE:LP:AF:ID\\t0.0064:0.0088:0.328179:0.274505:rs12410854\\r\\n1\\t1497008\\trs3766170\\tT\\tC\\t.\\tPASS\\tAF=0.320269\\tES:SE:LP:AF:ID\\t0.0064:0.0085:0.343614:0.320269:rs3766170\\r\\n1\\t1497201\\trs3766169\\tA\\tC\\t.\\tPASS\\tAF=0.289532\\tES:SE:LP:AF:ID\\t0.007:0.0087:0.373352:0.289532:rs3766169\\r\\n1\\t1499298\\trs9439468\\tA\\tG\\t.\\tPASS\\tAF=0.31909\\tES:SE:LP:AF:ID\\t0.0062:0.0085:0.328272:0.31909:rs9439468\\r\\n1\\t1500941\\trs6603791\\tA\\tG\\t.\\tPASS\\tAF=0.318872\\tES:SE:LP:AF:ID\\t0.0061:0.0084:0.329383:0.318872:rs6603791\\r\\n1\\t1503095\\trs7367692\\tG\\tA\\t.\\tPASS\\tAF=0.319775\\tES:SE:LP:AF:ID\\t0.0061:0.0083:0.336299:0.319775:rs7367692\\r\\n1\\t1503099\\trs7364711\\tA\\tC\\t.\\tPASS\\tAF=0.319366\\tES:SE:LP:AF:ID\\t0.0068:0.0085:0.373147:0.319366:rs7364711\\r\\n1\\t1503928\\trs7550471\\tG\\tA\\t.\\tPASS\\tAF=0.304548\\tES:SE:LP:AF:ID\\t0.0058:0.0086:0.301378:0.304548:rs7550471\\r\\n1\\t1504560\\trs7552586\\tT\\tA\\t.\\tPASS\\tAF=0.319818\\tES:SE:LP:AF:ID\\t0.0072:0.0083:0.414991:0.319818:rs7552586\\r\\n1\\t1505041\\trs6603792\\tT\\tC\\t.\\tPASS\\tAF=0.319562\\tES:SE:LP:AF:ID\\t0.0073:0.0084:0.41285:0.319562:rs6603792\\r\\n1\\t1505255\\trs6603793\\tC\\tT\\t.\\tPASS\\tAF=0.31871\\tES:SE:LP:AF:ID\\t0.0065:0.0083:0.36191:0.31871:rs6603793\\r\\n1\\t1505967\\trs7548959\\tC\\tT\\t.\\tPASS\\tAF=0.303778\\tES:SE:LP:AF:ID\\t0.0061:0.0085:0.320754:0.303778:rs7548959\\r\\n1\\t1507366\\trs9439469\\tG\\tA\\t.\\tPASS\\tAF=0.301087\\tES:SE:LP:AF:ID\\t0.0054:0.0087:0.271971:0.301087:rs9439469\\r\\n1\\t1508459\\trs9439473\\tA\\tG\\t.\\tPASS\\tAF=0.318581\\tES:SE:LP:AF:ID\\t0.0067:0.0086:0.363412:0.318581:rs9439473\\r\\n1\\t1509034\\trs7520996\\tT\\tC\\t.\\tPASS\\tAF=0.302818\\tES:SE:LP:AF:ID\\t0.0051:0.0082:0.270107:0.302818:rs7520996\\r\\n1\\t1509825\\trs6666293\\tA\\tG\\t.\\tPASS\\tAF=0.30359\\tES:SE:LP:AF:ID\\t0.0068:0.0081:0.397831:0.30359:rs6666293\\r\\n1\\t1510801\\trs7519837\\tC\\tT\\t.\\tPASS\\tAF=0.303945\\tES:SE:LP:AF:ID\\t0.0078:0.0087:0.436282:0.303945:rs7519837\\r\\n1\\t1511104\\trs7556282\\tG\\tC\\t.\\tPASS\\tAF=0.302885\\tES:SE:LP:AF:ID\\t0.0074:0.0086:0.408935:0.302885:rs7556282\\r\\n1\\t1702436\\trs12040325\\tG\\tA\\t.\\tPASS\\tAF=0.509673\\tES:SE:LP:AF:ID\\t-0.0028:0.0078:0.14315:0.509673:rs12040325\\r\\n1\\t1703303\\trs7529918\\tG\\tA\\t.\\tPASS\\tAF=0.509495\\tES:SE:LP:AF:ID\\t-0.0027:0.0078:0.136618:0.509495:rs7529918\\r\\n1\\t1703849\\trs12038111\\tT\\tC\\t.\\tPASS\\tAF=0.5096\\tES:SE:LP:AF:ID\\t-0.0024:0.0079:0.117305:0.5096:rs12038111\\r\\n1\\t1703865\\trs12038134\\tT\\tA\\t.\\tPASS\\tAF=0.509566\\tES:SE:LP:AF:ID\\t-0.0024:0.0077:0.122053:0.509566:rs12038134\\r\\n1\\t1704654\\trs61774982\\tC\\tA\\t.\\tPASS\\tAF=0.269042\\tES:SE:LP:AF:ID\\t-0.0051:0.0089:0.251115:0.269042:rs61774982\\r\\n'"
      ]
     },
     "execution_count": 20,
     "metadata": {},
     "output_type": "execute_result"
    }
   ],
   "source": [
    "get_med_data(\"5\")"
   ]
  },
  {
   "cell_type": "markdown",
   "id": "bc3920a2-7909-4725-ab86-df3000d2c963",
   "metadata": {},
   "source": [
    "Next let's create the lambda IAM role and policy to invoke a Bedrock model"
   ]
  },
  {
   "cell_type": "code",
   "execution_count": 22,
   "id": "e9a5ad9c-7fc0-4844-bc89-c32e409dd327",
   "metadata": {
    "tags": []
   },
   "outputs": [
    {
     "data": {
      "text/plain": [
       "{'ResponseMetadata': {'RequestId': '09f81858-b968-4afa-a715-3f15bafc5e3a',\n",
       "  'HTTPStatusCode': 200,\n",
       "  'HTTPHeaders': {'date': 'Sun, 20 Oct 2024 18:05:01 GMT',\n",
       "   'x-amzn-requestid': '09f81858-b968-4afa-a715-3f15bafc5e3a',\n",
       "   'content-type': 'text/xml',\n",
       "   'content-length': '212'},\n",
       "  'RetryAttempts': 0}}"
      ]
     },
     "execution_count": 22,
     "metadata": {},
     "output_type": "execute_result"
    }
   ],
   "source": [
    "# Create IAM Role for the Lambda function\n",
    "try:\n",
    "    assume_role_policy_document = {\n",
    "        \"Version\": \"2012-10-17\",\n",
    "        \"Statement\": [\n",
    "            {\n",
    "                \"Effect\": \"Allow\",\n",
    "                \"Principal\": {\n",
    "                    \"Service\": \"lambda.amazonaws.com\"\n",
    "                },\n",
    "                \"Action\": \"sts:AssumeRole\"\n",
    "            }\n",
    "        ]\n",
    "    }\n",
    "\n",
    "    assume_role_policy_document_json = json.dumps(assume_role_policy_document)\n",
    "\n",
    "    lambda_iam_role = iam_client.create_role(\n",
    "        RoleName=lambda_function_role,\n",
    "        AssumeRolePolicyDocument=assume_role_policy_document_json\n",
    "    )\n",
    "\n",
    "    # Pause to make sure role is created\n",
    "    time.sleep(10)\n",
    "except:\n",
    "    lambda_iam_role = iam_client.get_role(RoleName=lambda_function_role)\n",
    "\n",
    "iam_client.attach_role_policy(\n",
    "    RoleName=lambda_function_role,\n",
    "    PolicyArn='arn:aws:iam::aws:policy/service-role/AWSLambdaBasicExecutionRole'\n",
    ")"
   ]
  },
  {
   "cell_type": "markdown",
   "id": "1377cc22-4035-43d0-8e55-648107d5b087",
   "metadata": {},
   "source": [
    "We can now package the lambda function to a Zip file and create the lambda function using boto3"
   ]
  },
  {
   "cell_type": "code",
   "execution_count": 23,
   "id": "4db0472f-dfda-4085-8a44-89971f34c5a9",
   "metadata": {
    "tags": []
   },
   "outputs": [],
   "source": [
    "# Package up the lambda function code\n",
    "s = BytesIO()\n",
    "z = zipfile.ZipFile(s, 'w')\n",
    "z.write(\"lambda_function.py\")\n",
    "\n",
    "z.close()\n",
    "zip_content = s.getvalue()\n",
    "\n",
    "# Create Lambda Function\n",
    "lambda_function = lambda_client.create_function(\n",
    "    FunctionName=lambda_function_name,\n",
    "    Runtime='python3.12',\n",
    "    Timeout=180,\n",
    "    Role=lambda_iam_role['Role']['Arn'],\n",
    "    Code={'ZipFile': zip_content},\n",
    "    Handler='lambda_function.lambda_handler'\n",
    ")"
   ]
  },
  {
   "cell_type": "markdown",
   "id": "87aa9665-7cab-4794-b496-fd84a8a7972b",
   "metadata": {
    "jp-MarkdownHeadingCollapsed": true,
    "tags": []
   },
   "source": [
    "## Create Agent\n",
    "We will now create the agent. To do so, we first need to create the agent policies that allow bedrock model invocation for a specific foundation model and the agent IAM role with the policy associated to it. "
   ]
  },
  {
   "cell_type": "code",
   "execution_count": 24,
   "id": "10ffd724-3d1b-4916-8513-466c5dd03fcc",
   "metadata": {
    "tags": []
   },
   "outputs": [],
   "source": [
    "# Create IAM policies for agent\n",
    "bedrock_agent_bedrock_allow_policy_statement = {\n",
    "    \"Version\": \"2012-10-17\",\n",
    "    \"Statement\": [\n",
    "        {\n",
    "            \"Sid\": \"AmazonBedrockAgentBedrockFoundationModelPolicy\",\n",
    "            \"Effect\": \"Allow\",\n",
    "            \"Action\": \"bedrock:InvokeModel\",\n",
    "            \"Resource\": [\n",
    "                f\"arn:aws:bedrock:{region}::foundation-model/{agent_foundation_model}\"\n",
    "            ]\n",
    "        }\n",
    "    ]\n",
    "}\n",
    "\n",
    "bedrock_policy_json = json.dumps(bedrock_agent_bedrock_allow_policy_statement)\n",
    "\n",
    "agent_bedrock_policy = iam_client.create_policy(\n",
    "    PolicyName=agent_bedrock_allow_policy_name,\n",
    "    PolicyDocument=bedrock_policy_json\n",
    ")\n",
    "\n"
   ]
  },
  {
   "cell_type": "code",
   "execution_count": 25,
   "id": "83f3cf61-e65b-4c61-8a66-76bd5946eb32",
   "metadata": {
    "tags": []
   },
   "outputs": [
    {
     "data": {
      "text/plain": [
       "{'ResponseMetadata': {'RequestId': '9d73cd89-a0c7-430a-8426-63f22067b60f',\n",
       "  'HTTPStatusCode': 200,\n",
       "  'HTTPHeaders': {'date': 'Sun, 20 Oct 2024 18:07:26 GMT',\n",
       "   'x-amzn-requestid': '9d73cd89-a0c7-430a-8426-63f22067b60f',\n",
       "   'content-type': 'text/xml',\n",
       "   'content-length': '212'},\n",
       "  'RetryAttempts': 0}}"
      ]
     },
     "execution_count": 25,
     "metadata": {},
     "output_type": "execute_result"
    }
   ],
   "source": [
    "# Create IAM Role for the agent and attach IAM policies\n",
    "assume_role_policy_document = {\n",
    "    \"Version\": \"2012-10-17\",\n",
    "    \"Statement\": [{\n",
    "          \"Effect\": \"Allow\",\n",
    "          \"Principal\": {\n",
    "            \"Service\": \"bedrock.amazonaws.com\"\n",
    "          },\n",
    "          \"Action\": \"sts:AssumeRole\"\n",
    "    }]\n",
    "}\n",
    "\n",
    "assume_role_policy_document_json = json.dumps(assume_role_policy_document)\n",
    "agent_role = iam_client.create_role(\n",
    "    RoleName=agent_role_name,\n",
    "    AssumeRolePolicyDocument=assume_role_policy_document_json\n",
    ")\n",
    "\n",
    "# Pause to make sure role is created\n",
    "time.sleep(10)\n",
    "    \n",
    "iam_client.attach_role_policy(\n",
    "    RoleName=agent_role_name,\n",
    "    PolicyArn=agent_bedrock_policy['Policy']['Arn']\n",
    ")"
   ]
  },
  {
   "cell_type": "markdown",
   "id": "6083fe88-05af-4455-9744-e9593fc784f3",
   "metadata": {},
   "source": [
    "### Creating the agent\n",
    "Once the needed IAM role is created, we can use the Bedrock Agent client to create a new agent. To do so we use the `create_agent` function. It requires an agent name, underlying foundation model and instructions. You can also provide an agent description. Note that the agent created is not yet prepared. Later, we will prepare and use the agent."
   ]
  },
  {
   "cell_type": "code",
   "execution_count": 37,
   "id": "6251ebaa-693d-4fee-b28c-2b0692d94ae5",
   "metadata": {
    "tags": []
   },
   "outputs": [
    {
     "data": {
      "text/plain": [
       "{'ResponseMetadata': {'RequestId': '8f2eacae-5294-4983-8d4f-5c9807f66bc5',\n",
       "  'HTTPStatusCode': 202,\n",
       "  'HTTPHeaders': {'date': 'Sun, 20 Oct 2024 18:15:53 GMT',\n",
       "   'content-type': 'application/json',\n",
       "   'content-length': '1610',\n",
       "   'connection': 'keep-alive',\n",
       "   'x-amzn-requestid': '8f2eacae-5294-4983-8d4f-5c9807f66bc5',\n",
       "   'x-amz-apigw-id': 'f9hSCG6CoAMEqNA=',\n",
       "   'x-amzn-trace-id': 'Root=1-671548d9-59b6921607347a553352379c'},\n",
       "  'RetryAttempts': 0},\n",
       " 'agent': {'agentArn': 'arn:aws:bedrock:us-east-1:377146168043:agent/NF1AONDP4N',\n",
       "  'agentId': 'NF1AONDP4N',\n",
       "  'agentName': 'med-function-def',\n",
       "  'agentResourceRoleArn': 'arn:aws:iam::377146168043:role/AmazonBedrockExecutionRoleForAgents_med-function-def',\n",
       "  'agentStatus': 'CREATING',\n",
       "  'createdAt': datetime.datetime(2024, 10, 20, 18, 15, 53, 717958, tzinfo=tzlocal()),\n",
       "  'description': 'Agent for providing Med assistance doctors',\n",
       "  'foundationModel': 'anthropic.claude-3-sonnet-20240229-v1:0',\n",
       "  'idleSessionTTLInSeconds': 1800,\n",
       "  'instruction': 'ou are Dr Flight Virtual senior doctor in NEOM health giving live advice and guidelines to Dr Reem Jr doctor @ NEOM health , you do speak in advanced medical language about a the follwoing medical case. Based on the patient details in FHIR as well as vcf genetic data  , Dr Reem is expecting to get detailed medical conclusion , genetic assesment in detials including genetic variants / Allele specific risk-associated genetic markers and Treatment plan. the treatment plan should comply with  SAUDI health councile and highlight that. in the discussion please refer to patient by his/her name. if the Foot examination url to check any complications , Dr reem is expecting to get the diagnosis based on the image url . Highlight specific risk-associated genetic markers if the person at risk of dt2m. Detect and explian any pharmacetical issues between if found . conisder the UV index pH water and wather tempreture if needed as yo0u are new virtual assistant clearly recommend to do the proper due diligence till NEOM management give the green light for Dr Flight to be in production',\n",
       "  'updatedAt': datetime.datetime(2024, 10, 20, 18, 15, 53, 717958, tzinfo=tzlocal())}}"
      ]
     },
     "execution_count": 37,
     "metadata": {},
     "output_type": "execute_result"
    }
   ],
   "source": [
    "response = bedrock_agent_client.create_agent(\n",
    "    agentName=agent_name,\n",
    "    agentResourceRoleArn=agent_role['Role']['Arn'],\n",
    "    description=agent_description,\n",
    "    idleSessionTTLInSeconds=1800,\n",
    "    foundationModel=agent_foundation_model,\n",
    "    instruction=agent_instruction,\n",
    ")\n",
    "response"
   ]
  },
  {
   "cell_type": "markdown",
   "id": "55a44f69-64ae-45ce-8961-41cf4363f271",
   "metadata": {},
   "source": [
    "Let's now store the agent id in a local variable to use it on subsequent steps."
   ]
  },
  {
   "cell_type": "code",
   "execution_count": 38,
   "id": "0774ea09-6ccf-476d-b2bb-c8265b614f60",
   "metadata": {
    "tags": []
   },
   "outputs": [
    {
     "data": {
      "text/plain": [
       "'NF1AONDP4N'"
      ]
     },
     "execution_count": 38,
     "metadata": {},
     "output_type": "execute_result"
    }
   ],
   "source": [
    "agent_id = response['agent']['agentId']\n",
    "agent_id"
   ]
  },
  {
   "cell_type": "markdown",
   "id": "65efbf63-fbdb-4220-ab89-c7af740447ef",
   "metadata": {
    "jp-MarkdownHeadingCollapsed": true,
    "tags": []
   },
   "source": [
    "## Create Agent Action Group\n",
    "We will now create an agent action group that uses the lambda function created earlier. The [`create_agent_action_group`](https://boto3.amazonaws.com/v1/documentation/api/latest/reference/services/bedrock-agent/client/create_agent_action_group.html) function provides this functionality. We will use `DRAFT` as the agent version since we haven't yet created an agent version or alias. To inform the agent about the action group capabilities, we provide an action group description.\n",
    "\n",
    "In this example, we provide the Action Group functionality using a `functionSchema`. You can alternatively provide an `APISchema`. The notebook [02-create-agent-with-api-schema.ipynb](02-create-agent-with-api-schema/02-create-agent-with-api-schema.ipynb) provides an example of that approach.\n",
    "\n",
    "To define the functions using a function schema, you need to provide the `name`, `description` and `parameters` for each function."
   ]
  },
  {
   "cell_type": "code",
   "execution_count": 39,
   "id": "a99e5855-fe22-450b-889a-da73e44fdc30",
   "metadata": {
    "tags": []
   },
   "outputs": [],
   "source": [
    "agent_functions = [\n",
    "    {\n",
    "        'name': 'get_med_data',\n",
    "        'description': 'get the patient details available for a certain patient',\n",
    "        'parameters': {\n",
    "            \"patient_id\": {\n",
    "                \"description\": \"the id of the patient to get the available data\",\n",
    "                \"required\": True,\n",
    "                \"type\": \"string\"\n",
    "            }\n",
    "        }\n",
    "    }\n",
    "]"
   ]
  },
  {
   "cell_type": "code",
   "execution_count": 40,
   "id": "d474b3e7-8501-48ed-82d1-f8a3792227a4",
   "metadata": {
    "tags": []
   },
   "outputs": [],
   "source": [
    "# Pause to make sure agent is created\n",
    "time.sleep(30)\n",
    "# Now, we can configure and create an action group here:\n",
    "agent_action_group_response = bedrock_agent_client.create_agent_action_group(\n",
    "    agentId=agent_id,\n",
    "    agentVersion='DRAFT',\n",
    "    actionGroupExecutor={\n",
    "        'lambda': lambda_function['FunctionArn']\n",
    "    },\n",
    "    actionGroupName=agent_action_group_name,\n",
    "    functionSchema={\n",
    "        'functions': agent_functions\n",
    "    },\n",
    "    description=agent_action_group_description\n",
    ")"
   ]
  },
  {
   "cell_type": "code",
   "execution_count": 41,
   "id": "22feec4a-d3ec-48f6-9e33-e5a09f08701e",
   "metadata": {
    "tags": []
   },
   "outputs": [
    {
     "data": {
      "text/plain": [
       "{'ResponseMetadata': {'RequestId': 'cd8a6746-cc6b-445b-adce-6a12252636cb',\n",
       "  'HTTPStatusCode': 200,\n",
       "  'HTTPHeaders': {'date': 'Sun, 20 Oct 2024 18:18:55 GMT',\n",
       "   'content-type': 'application/json',\n",
       "   'content-length': '724',\n",
       "   'connection': 'keep-alive',\n",
       "   'x-amzn-requestid': 'cd8a6746-cc6b-445b-adce-6a12252636cb',\n",
       "   'x-amz-apigw-id': 'f9huYGOMIAMEqNA=',\n",
       "   'x-amzn-trace-id': 'Root=1-6715498e-62b041653cd0d3544d6291f2'},\n",
       "  'RetryAttempts': 0},\n",
       " 'agentActionGroup': {'actionGroupExecutor': {'lambda': 'arn:aws:lambda:us-east-1:377146168043:function:med-function-def-us-east-1-377146168043'},\n",
       "  'actionGroupId': 'XPXYOPIDFP',\n",
       "  'actionGroupName': 'MedActionGroup',\n",
       "  'actionGroupState': 'ENABLED',\n",
       "  'agentId': 'NF1AONDP4N',\n",
       "  'agentVersion': 'DRAFT',\n",
       "  'createdAt': datetime.datetime(2024, 10, 20, 18, 18, 55, 50487, tzinfo=tzlocal()),\n",
       "  'description': 'Actions for getting patient data for a patient',\n",
       "  'functionSchema': {'functions': [{'description': 'get the patient details available for a certain patient',\n",
       "     'name': 'get_all_data',\n",
       "     'parameters': {'patient_id': {'description': 'the id of the patient to get the available data',\n",
       "       'required': True,\n",
       "       'type': 'string'}},\n",
       "     'requireConfirmation': 'DISABLED'}]},\n",
       "  'updatedAt': datetime.datetime(2024, 10, 20, 18, 18, 55, 50487, tzinfo=tzlocal())}}"
      ]
     },
     "execution_count": 41,
     "metadata": {},
     "output_type": "execute_result"
    }
   ],
   "source": [
    "agent_action_group_response"
   ]
  },
  {
   "cell_type": "markdown",
   "id": "751873ee-631b-437d-af97-cb86bd8a0890",
   "metadata": {},
   "source": [
    "## Allowing Agent to invoke Action Group Lambda\n",
    "Before using the action group, we need to allow the agent to invoke the lambda function associated with the action group. This is done via resource-based policy. Let's add the resource-based policy to the lambda function created"
   ]
  },
  {
   "cell_type": "code",
   "execution_count": 42,
   "id": "c739e041-9ea0-4eef-8151-d206e2fd9e37",
   "metadata": {
    "tags": []
   },
   "outputs": [],
   "source": [
    "# Create allow invoke permission on lambda\n",
    "response = lambda_client.add_permission(\n",
    "    FunctionName=lambda_function_name,\n",
    "    StatementId='allow_bedrock',\n",
    "    Action='lambda:InvokeFunction',\n",
    "    Principal='bedrock.amazonaws.com',\n",
    "    SourceArn=f\"arn:aws:bedrock:{region}:{account_id}:agent/{agent_id}\",\n",
    ")\n"
   ]
  },
  {
   "cell_type": "code",
   "execution_count": 43,
   "id": "a5cdfb72-e41c-4d78-ab12-ce8394574c17",
   "metadata": {
    "tags": []
   },
   "outputs": [
    {
     "data": {
      "text/plain": [
       "{'ResponseMetadata': {'RequestId': 'd5b6c52a-78be-4871-8cf1-4018a746967e',\n",
       "  'HTTPStatusCode': 201,\n",
       "  'HTTPHeaders': {'date': 'Sun, 20 Oct 2024 18:19:08 GMT',\n",
       "   'content-type': 'application/json',\n",
       "   'content-length': '367',\n",
       "   'connection': 'keep-alive',\n",
       "   'x-amzn-requestid': 'd5b6c52a-78be-4871-8cf1-4018a746967e'},\n",
       "  'RetryAttempts': 1},\n",
       " 'Statement': '{\"Sid\":\"allow_bedrock\",\"Effect\":\"Allow\",\"Principal\":{\"Service\":\"bedrock.amazonaws.com\"},\"Action\":\"lambda:InvokeFunction\",\"Resource\":\"arn:aws:lambda:us-east-1:377146168043:function:med-function-def-us-east-1-377146168043\",\"Condition\":{\"ArnLike\":{\"AWS:SourceArn\":\"arn:aws:bedrock:us-east-1:377146168043:agent/NF1AONDP4N\"}}}'}"
      ]
     },
     "execution_count": 43,
     "metadata": {},
     "output_type": "execute_result"
    }
   ],
   "source": [
    "response"
   ]
  },
  {
   "cell_type": "markdown",
   "id": "2b3bab10-e5dc-4138-a9ff-76b2ff2ff9e6",
   "metadata": {},
   "source": [
    "## Preparing Agent\n",
    "\n",
    "Let's create a DRAFT version of the agent that can be used for internal testing.\n"
   ]
  },
  {
   "cell_type": "code",
   "execution_count": 44,
   "id": "e7094e7f-915a-4396-8d98-c3bfee3ccf1e",
   "metadata": {
    "tags": []
   },
   "outputs": [
    {
     "name": "stdout",
     "output_type": "stream",
     "text": [
      "{'ResponseMetadata': {'RequestId': '355d1c68-78d0-4a28-a876-fc800fb05a76', 'HTTPStatusCode': 202, 'HTTPHeaders': {'date': 'Sun, 20 Oct 2024 18:19:21 GMT', 'content-type': 'application/json', 'content-length': '119', 'connection': 'keep-alive', 'x-amzn-requestid': '355d1c68-78d0-4a28-a876-fc800fb05a76', 'x-amz-apigw-id': 'f9hygHoJoAMEqpA=', 'x-amzn-trace-id': 'Root=1-671549a9-33e0c77e554f43172854c10a'}, 'RetryAttempts': 0}, 'agentId': 'NF1AONDP4N', 'agentStatus': 'PREPARING', 'agentVersion': 'DRAFT', 'preparedAt': datetime.datetime(2024, 10, 20, 18, 19, 21, 490772, tzinfo=tzlocal())}\n"
     ]
    }
   ],
   "source": [
    "response = bedrock_agent_client.prepare_agent(\n",
    "    agentId=agent_id\n",
    ")\n",
    "print(response)"
   ]
  },
  {
   "cell_type": "code",
   "execution_count": 45,
   "id": "aae1ff1a",
   "metadata": {
    "tags": []
   },
   "outputs": [],
   "source": [
    "# Pause to make sure agent is prepared\n",
    "time.sleep(30)\n",
    "\n",
    "# Extract the agentAliasId from the response\n",
    "agent_alias_id = \"TSTALIASID\""
   ]
  },
  {
   "cell_type": "markdown",
   "id": "80f2be3a-007e-4278-b8cc-4ffd7222234b",
   "metadata": {
    "jp-MarkdownHeadingCollapsed": true,
    "tags": []
   },
   "source": [
    "## Invoke Agent\n",
    "\n",
    "Now that we've created the agent, let's use the `bedrock-agent-runtime` client to invoke this agent and perform some tasks."
   ]
  },
  {
   "cell_type": "code",
   "execution_count": 51,
   "id": "22bfea60-67fd-43ea-b7a1-7ca5668cb36f",
   "metadata": {
    "tags": []
   },
   "outputs": [
    {
     "name": "stderr",
     "output_type": "stream",
     "text": [
      "[2024-10-20 18:26:20,474] p967 {2013756089.py:16} INFO - None\n"
     ]
    },
    {
     "name": "stdout",
     "output_type": "stream",
     "text": [
      "{'ResponseMetadata': {'HTTPHeaders': {'connection': 'keep-alive',\n",
      "                                      'content-type': 'application/json',\n",
      "                                      'date': 'Sun, 20 Oct 2024 18:26:20 GMT',\n",
      "                                      'transfer-encoding': 'chunked',\n",
      "                                      'x-amz-bedrock-agent-session-id': 'cda56fe6-8f10-11ef-8ae2-8a844ff09438',\n",
      "                                      'x-amzn-bedrock-agent-content-type': 'application/json',\n",
      "                                      'x-amzn-requestid': '59639673-06ce-4f17-83e2-997fd0418efd'},\n",
      "                      'HTTPStatusCode': 200,\n",
      "                      'RequestId': '59639673-06ce-4f17-83e2-997fd0418efd',\n",
      "                      'RetryAttempts': 0},\n",
      " 'completion': <botocore.eventstream.EventStream object at 0x7f2f38b48d30>,\n",
      " 'contentType': 'application/json',\n",
      " 'sessionId': 'cda56fe6-8f10-11ef-8ae2-8a844ff09438'}\n"
     ]
    }
   ],
   "source": [
    "## create a random id for session initiator id\n",
    "session_id:str = str(uuid.uuid1())\n",
    "enable_trace:bool = False\n",
    "end_session:bool = False\n",
    "\n",
    "# invoke the agent API\n",
    "agentResponse = bedrock_agent_runtime_client.invoke_agent(\n",
    "    inputText=\"what id data of patient_id '1' looks like ?\",\n",
    "    agentId=agent_id,\n",
    "    agentAliasId=agent_alias_id, \n",
    "    sessionId=session_id,\n",
    "    enableTrace=enable_trace, \n",
    "    endSession= end_session\n",
    ")\n",
    "\n",
    "logger.info(pprint.pprint(agentResponse))"
   ]
  },
  {
   "cell_type": "code",
   "execution_count": 52,
   "id": "653747cc-301f-40a7-b8cf-058d7b0d75b3",
   "metadata": {
    "tags": []
   },
   "outputs": [
    {
     "name": "stderr",
     "output_type": "stream",
     "text": [
      "[2024-10-20 18:26:27,691] p967 {<timed exec>:6} INFO - Final answer ->\n",
      "I'm sorry, but there does not seem to be any electronic health record (EHR) data or genomic data available for the patient with ID '5'. Without this key medical information, I am unable to provide a detailed medical assessment, genetic analysis, or treatment plan for this patient. Please let me know if you can provide the necessary patient data so that I can assist further.\n"
     ]
    },
    {
     "name": "stdout",
     "output_type": "stream",
     "text": [
      "CPU times: user 4.25 ms, sys: 829 µs, total: 5.08 ms\n",
      "Wall time: 2.1 s\n"
     ]
    }
   ],
   "source": [
    "%%time\n",
    "event_stream = agentResponse['completion']\n",
    "try:\n",
    "    for event in event_stream:        \n",
    "        if 'chunk' in event:\n",
    "            data = event['chunk']['bytes']\n",
    "            logger.info(f\"Final answer ->\\n{data.decode('utf8')}\")\n",
    "            agent_answer = data.decode('utf8')\n",
    "            end_event_received = True\n",
    "            # End event indicates that the request finished successfully\n",
    "        elif 'trace' in event:\n",
    "            logger.info(json.dumps(event['trace'], indent=2))\n",
    "        else:\n",
    "            raise Exception(\"unexpected event.\", event)\n",
    "except Exception as e:\n",
    "    raise Exception(\"unexpected event.\", e)"
   ]
  },
  {
   "cell_type": "code",
   "execution_count": 53,
   "id": "1ae751a4-5f57-41c4-a079-42fd6b56bb2c",
   "metadata": {
    "tags": []
   },
   "outputs": [
    {
     "name": "stdout",
     "output_type": "stream",
     "text": [
      "I'm sorry, but there does not seem to be any electronic health record (EHR) data or genomic data available for the patient with ID '5'. Without this key medical information, I am unable to provide a detailed medical assessment, genetic analysis, or treatment plan for this patient. Please let me know if you can provide the necessary patient data so that I can assist further.\n"
     ]
    }
   ],
   "source": [
    "# And here is the response if you just want to see agent's reply\n",
    "print(agent_answer)"
   ]
  },
  {
   "cell_type": "code",
   "execution_count": null,
   "id": "3aa7ae85",
   "metadata": {},
   "outputs": [],
   "source": [
    "def simple_agent_invoke(input_text, agent_id, agent_alias_id, session_id=None, enable_trace=False, end_session=False):\n",
    "    agentResponse = bedrock_agent_runtime_client.invoke_agent(\n",
    "        inputText=input_text,\n",
    "        agentId=agent_id,\n",
    "        agentAliasId=agent_alias_id, \n",
    "        sessionId=session_id,\n",
    "        enableTrace=enable_trace, \n",
    "        endSession= end_session\n",
    "    )\n",
    "    logger.info(pprint.pprint(agentResponse))\n",
    "    \n",
    "    event_stream = agentResponse['completion']\n",
    "    try:\n",
    "        for event in event_stream:        \n",
    "            if 'chunk' in event:\n",
    "                data = event['chunk']['bytes']\n",
    "                logger.info(f\"Final answer ->\\n{data.decode('utf8')}\")\n",
    "                agent_answer = data.decode('utf8')\n",
    "                end_event_received = True\n",
    "                # End event indicates that the request finished successfully\n",
    "            elif 'trace' in event:\n",
    "                logger.info(json.dumps(event['trace'], indent=2))\n",
    "            else:\n",
    "                raise Exception(\"unexpected event.\", event)\n",
    "    except Exception as e:\n",
    "        raise Exception(\"unexpected event.\", e)"
   ]
  },
  {
   "cell_type": "code",
   "execution_count": null,
   "id": "49520dbf",
   "metadata": {},
   "outputs": [],
   "source": [
    "simple_agent_invoke(\"Please , give me recomendation for patient id 3\", agent_id, agent_alias_id, session_id)"
   ]
  },
  {
   "cell_type": "code",
   "execution_count": null,
   "id": "f4e45972-8b18-42f8-90a5-d647c02b38bb",
   "metadata": {
    "tags": []
   },
   "outputs": [],
   "source": [
    "# This is not needed, you can delete agent successfully after deleting alias only\n",
    "# Additionaly, you need to disable it first\n",
    "action_group_id = agent_action_group_response['agentActionGroup']['actionGroupId']\n",
    "action_group_name = agent_action_group_response['agentActionGroup']['actionGroupName']\n",
    "\n",
    "response = bedrock_agent_client.update_agent_action_group(\n",
    "    agentId=agent_id,\n",
    "    agentVersion='DRAFT',\n",
    "    actionGroupId= action_group_id,\n",
    "    actionGroupName=action_group_name,\n",
    "    actionGroupExecutor={\n",
    "        'lambda': lambda_function['FunctionArn']\n",
    "    },\n",
    "    functionSchema={\n",
    "        'functions': agent_functions\n",
    "    },\n",
    "    actionGroupState='DISABLED',\n",
    ")\n",
    "\n",
    "action_group_deletion = bedrock_agent_client.delete_agent_action_group(\n",
    "    agentId=agent_id,\n",
    "    agentVersion='DRAFT',\n",
    "    actionGroupId= action_group_id\n",
    ")"
   ]
  },
  {
   "cell_type": "code",
   "execution_count": null,
   "id": "6bb1ba93-39ee-46c4-80e0-07854eb9ca33",
   "metadata": {
    "tags": []
   },
   "outputs": [],
   "source": [
    "agent_deletion = bedrock_agent_client.delete_agent(\n",
    "    agentId=agent_id\n",
    ")"
   ]
  },
  {
   "cell_type": "code",
   "execution_count": null,
   "id": "a0772672-35ff-4eb4-b0ec-0c0db1cc8797",
   "metadata": {
    "tags": []
   },
   "outputs": [],
   "source": [
    "# Delete Lambda function\n",
    "lambda_client.delete_function(\n",
    "    FunctionName=lambda_function_name\n",
    ")"
   ]
  },
  {
   "cell_type": "code",
   "execution_count": null,
   "id": "5dc0d7e0-b867-4e16-8f85-b7c7d95469d3",
   "metadata": {
    "tags": []
   },
   "outputs": [],
   "source": [
    "# Delete IAM Roles and policies\n",
    "\n",
    "for policy in [agent_bedrock_allow_policy_name]:\n",
    "    iam_client.detach_role_policy(RoleName=agent_role_name, PolicyArn=f'arn:aws:iam::{account_id}:policy/{policy}')\n",
    "    \n",
    "iam_client.detach_role_policy(RoleName=lambda_function_role, PolicyArn='arn:aws:iam::aws:policy/service-role/AWSLambdaBasicExecutionRole')\n",
    "\n",
    "for role_name in [agent_role_name, lambda_function_role]:\n",
    "    iam_client.delete_role(\n",
    "        RoleName=role_name\n",
    "    )\n",
    "\n",
    "for policy in [agent_bedrock_policy]:\n",
    "    iam_client.delete_policy(\n",
    "        PolicyArn=policy['Policy']['Arn']\n",
    ")\n"
   ]
  },
  {
   "cell_type": "markdown",
   "id": "25e995a3-7842-4bcc-93e9-759b6b3b6722",
   "metadata": {},
   "source": [
    "## Conclusion\n",
    "This workshop still under review and to be pushed to AWS samples soon\n",
    "\n",
    "## Important notes\n",
    "this has been implemnted as a PoC for one of our customers with real genomics & EHR resulting in far better reponse \n",
    "Althogh best effort approach to test the notebook ,  it is not customer ready for workshops or immesrion days yet\n",
    "## Thank You"
   ]
  }
 ],
 "metadata": {
  "availableInstances": [
   {
    "_defaultOrder": 0,
    "_isFastLaunch": true,
    "category": "General purpose",
    "gpuNum": 0,
    "hideHardwareSpecs": false,
    "memoryGiB": 4,
    "name": "ml.t3.medium",
    "vcpuNum": 2
   },
   {
    "_defaultOrder": 1,
    "_isFastLaunch": false,
    "category": "General purpose",
    "gpuNum": 0,
    "hideHardwareSpecs": false,
    "memoryGiB": 8,
    "name": "ml.t3.large",
    "vcpuNum": 2
   },
   {
    "_defaultOrder": 2,
    "_isFastLaunch": false,
    "category": "General purpose",
    "gpuNum": 0,
    "hideHardwareSpecs": false,
    "memoryGiB": 16,
    "name": "ml.t3.xlarge",
    "vcpuNum": 4
   },
   {
    "_defaultOrder": 3,
    "_isFastLaunch": false,
    "category": "General purpose",
    "gpuNum": 0,
    "hideHardwareSpecs": false,
    "memoryGiB": 32,
    "name": "ml.t3.2xlarge",
    "vcpuNum": 8
   },
   {
    "_defaultOrder": 4,
    "_isFastLaunch": true,
    "category": "General purpose",
    "gpuNum": 0,
    "hideHardwareSpecs": false,
    "memoryGiB": 8,
    "name": "ml.m5.large",
    "vcpuNum": 2
   },
   {
    "_defaultOrder": 5,
    "_isFastLaunch": false,
    "category": "General purpose",
    "gpuNum": 0,
    "hideHardwareSpecs": false,
    "memoryGiB": 16,
    "name": "ml.m5.xlarge",
    "vcpuNum": 4
   },
   {
    "_defaultOrder": 6,
    "_isFastLaunch": false,
    "category": "General purpose",
    "gpuNum": 0,
    "hideHardwareSpecs": false,
    "memoryGiB": 32,
    "name": "ml.m5.2xlarge",
    "vcpuNum": 8
   },
   {
    "_defaultOrder": 7,
    "_isFastLaunch": false,
    "category": "General purpose",
    "gpuNum": 0,
    "hideHardwareSpecs": false,
    "memoryGiB": 64,
    "name": "ml.m5.4xlarge",
    "vcpuNum": 16
   },
   {
    "_defaultOrder": 8,
    "_isFastLaunch": false,
    "category": "General purpose",
    "gpuNum": 0,
    "hideHardwareSpecs": false,
    "memoryGiB": 128,
    "name": "ml.m5.8xlarge",
    "vcpuNum": 32
   },
   {
    "_defaultOrder": 9,
    "_isFastLaunch": false,
    "category": "General purpose",
    "gpuNum": 0,
    "hideHardwareSpecs": false,
    "memoryGiB": 192,
    "name": "ml.m5.12xlarge",
    "vcpuNum": 48
   },
   {
    "_defaultOrder": 10,
    "_isFastLaunch": false,
    "category": "General purpose",
    "gpuNum": 0,
    "hideHardwareSpecs": false,
    "memoryGiB": 256,
    "name": "ml.m5.16xlarge",
    "vcpuNum": 64
   },
   {
    "_defaultOrder": 11,
    "_isFastLaunch": false,
    "category": "General purpose",
    "gpuNum": 0,
    "hideHardwareSpecs": false,
    "memoryGiB": 384,
    "name": "ml.m5.24xlarge",
    "vcpuNum": 96
   },
   {
    "_defaultOrder": 12,
    "_isFastLaunch": false,
    "category": "General purpose",
    "gpuNum": 0,
    "hideHardwareSpecs": false,
    "memoryGiB": 8,
    "name": "ml.m5d.large",
    "vcpuNum": 2
   },
   {
    "_defaultOrder": 13,
    "_isFastLaunch": false,
    "category": "General purpose",
    "gpuNum": 0,
    "hideHardwareSpecs": false,
    "memoryGiB": 16,
    "name": "ml.m5d.xlarge",
    "vcpuNum": 4
   },
   {
    "_defaultOrder": 14,
    "_isFastLaunch": false,
    "category": "General purpose",
    "gpuNum": 0,
    "hideHardwareSpecs": false,
    "memoryGiB": 32,
    "name": "ml.m5d.2xlarge",
    "vcpuNum": 8
   },
   {
    "_defaultOrder": 15,
    "_isFastLaunch": false,
    "category": "General purpose",
    "gpuNum": 0,
    "hideHardwareSpecs": false,
    "memoryGiB": 64,
    "name": "ml.m5d.4xlarge",
    "vcpuNum": 16
   },
   {
    "_defaultOrder": 16,
    "_isFastLaunch": false,
    "category": "General purpose",
    "gpuNum": 0,
    "hideHardwareSpecs": false,
    "memoryGiB": 128,
    "name": "ml.m5d.8xlarge",
    "vcpuNum": 32
   },
   {
    "_defaultOrder": 17,
    "_isFastLaunch": false,
    "category": "General purpose",
    "gpuNum": 0,
    "hideHardwareSpecs": false,
    "memoryGiB": 192,
    "name": "ml.m5d.12xlarge",
    "vcpuNum": 48
   },
   {
    "_defaultOrder": 18,
    "_isFastLaunch": false,
    "category": "General purpose",
    "gpuNum": 0,
    "hideHardwareSpecs": false,
    "memoryGiB": 256,
    "name": "ml.m5d.16xlarge",
    "vcpuNum": 64
   },
   {
    "_defaultOrder": 19,
    "_isFastLaunch": false,
    "category": "General purpose",
    "gpuNum": 0,
    "hideHardwareSpecs": false,
    "memoryGiB": 384,
    "name": "ml.m5d.24xlarge",
    "vcpuNum": 96
   },
   {
    "_defaultOrder": 20,
    "_isFastLaunch": false,
    "category": "General purpose",
    "gpuNum": 0,
    "hideHardwareSpecs": true,
    "memoryGiB": 0,
    "name": "ml.geospatial.interactive",
    "supportedImageNames": [
     "sagemaker-geospatial-v1-0"
    ],
    "vcpuNum": 0
   },
   {
    "_defaultOrder": 21,
    "_isFastLaunch": true,
    "category": "Compute optimized",
    "gpuNum": 0,
    "hideHardwareSpecs": false,
    "memoryGiB": 4,
    "name": "ml.c5.large",
    "vcpuNum": 2
   },
   {
    "_defaultOrder": 22,
    "_isFastLaunch": false,
    "category": "Compute optimized",
    "gpuNum": 0,
    "hideHardwareSpecs": false,
    "memoryGiB": 8,
    "name": "ml.c5.xlarge",
    "vcpuNum": 4
   },
   {
    "_defaultOrder": 23,
    "_isFastLaunch": false,
    "category": "Compute optimized",
    "gpuNum": 0,
    "hideHardwareSpecs": false,
    "memoryGiB": 16,
    "name": "ml.c5.2xlarge",
    "vcpuNum": 8
   },
   {
    "_defaultOrder": 24,
    "_isFastLaunch": false,
    "category": "Compute optimized",
    "gpuNum": 0,
    "hideHardwareSpecs": false,
    "memoryGiB": 32,
    "name": "ml.c5.4xlarge",
    "vcpuNum": 16
   },
   {
    "_defaultOrder": 25,
    "_isFastLaunch": false,
    "category": "Compute optimized",
    "gpuNum": 0,
    "hideHardwareSpecs": false,
    "memoryGiB": 72,
    "name": "ml.c5.9xlarge",
    "vcpuNum": 36
   },
   {
    "_defaultOrder": 26,
    "_isFastLaunch": false,
    "category": "Compute optimized",
    "gpuNum": 0,
    "hideHardwareSpecs": false,
    "memoryGiB": 96,
    "name": "ml.c5.12xlarge",
    "vcpuNum": 48
   },
   {
    "_defaultOrder": 27,
    "_isFastLaunch": false,
    "category": "Compute optimized",
    "gpuNum": 0,
    "hideHardwareSpecs": false,
    "memoryGiB": 144,
    "name": "ml.c5.18xlarge",
    "vcpuNum": 72
   },
   {
    "_defaultOrder": 28,
    "_isFastLaunch": false,
    "category": "Compute optimized",
    "gpuNum": 0,
    "hideHardwareSpecs": false,
    "memoryGiB": 192,
    "name": "ml.c5.24xlarge",
    "vcpuNum": 96
   },
   {
    "_defaultOrder": 29,
    "_isFastLaunch": true,
    "category": "Accelerated computing",
    "gpuNum": 1,
    "hideHardwareSpecs": false,
    "memoryGiB": 16,
    "name": "ml.g4dn.xlarge",
    "vcpuNum": 4
   },
   {
    "_defaultOrder": 30,
    "_isFastLaunch": false,
    "category": "Accelerated computing",
    "gpuNum": 1,
    "hideHardwareSpecs": false,
    "memoryGiB": 32,
    "name": "ml.g4dn.2xlarge",
    "vcpuNum": 8
   },
   {
    "_defaultOrder": 31,
    "_isFastLaunch": false,
    "category": "Accelerated computing",
    "gpuNum": 1,
    "hideHardwareSpecs": false,
    "memoryGiB": 64,
    "name": "ml.g4dn.4xlarge",
    "vcpuNum": 16
   },
   {
    "_defaultOrder": 32,
    "_isFastLaunch": false,
    "category": "Accelerated computing",
    "gpuNum": 1,
    "hideHardwareSpecs": false,
    "memoryGiB": 128,
    "name": "ml.g4dn.8xlarge",
    "vcpuNum": 32
   },
   {
    "_defaultOrder": 33,
    "_isFastLaunch": false,
    "category": "Accelerated computing",
    "gpuNum": 4,
    "hideHardwareSpecs": false,
    "memoryGiB": 192,
    "name": "ml.g4dn.12xlarge",
    "vcpuNum": 48
   },
   {
    "_defaultOrder": 34,
    "_isFastLaunch": false,
    "category": "Accelerated computing",
    "gpuNum": 1,
    "hideHardwareSpecs": false,
    "memoryGiB": 256,
    "name": "ml.g4dn.16xlarge",
    "vcpuNum": 64
   },
   {
    "_defaultOrder": 35,
    "_isFastLaunch": false,
    "category": "Accelerated computing",
    "gpuNum": 1,
    "hideHardwareSpecs": false,
    "memoryGiB": 61,
    "name": "ml.p3.2xlarge",
    "vcpuNum": 8
   },
   {
    "_defaultOrder": 36,
    "_isFastLaunch": false,
    "category": "Accelerated computing",
    "gpuNum": 4,
    "hideHardwareSpecs": false,
    "memoryGiB": 244,
    "name": "ml.p3.8xlarge",
    "vcpuNum": 32
   },
   {
    "_defaultOrder": 37,
    "_isFastLaunch": false,
    "category": "Accelerated computing",
    "gpuNum": 8,
    "hideHardwareSpecs": false,
    "memoryGiB": 488,
    "name": "ml.p3.16xlarge",
    "vcpuNum": 64
   },
   {
    "_defaultOrder": 38,
    "_isFastLaunch": false,
    "category": "Accelerated computing",
    "gpuNum": 8,
    "hideHardwareSpecs": false,
    "memoryGiB": 768,
    "name": "ml.p3dn.24xlarge",
    "vcpuNum": 96
   },
   {
    "_defaultOrder": 39,
    "_isFastLaunch": false,
    "category": "Memory Optimized",
    "gpuNum": 0,
    "hideHardwareSpecs": false,
    "memoryGiB": 16,
    "name": "ml.r5.large",
    "vcpuNum": 2
   },
   {
    "_defaultOrder": 40,
    "_isFastLaunch": false,
    "category": "Memory Optimized",
    "gpuNum": 0,
    "hideHardwareSpecs": false,
    "memoryGiB": 32,
    "name": "ml.r5.xlarge",
    "vcpuNum": 4
   },
   {
    "_defaultOrder": 41,
    "_isFastLaunch": false,
    "category": "Memory Optimized",
    "gpuNum": 0,
    "hideHardwareSpecs": false,
    "memoryGiB": 64,
    "name": "ml.r5.2xlarge",
    "vcpuNum": 8
   },
   {
    "_defaultOrder": 42,
    "_isFastLaunch": false,
    "category": "Memory Optimized",
    "gpuNum": 0,
    "hideHardwareSpecs": false,
    "memoryGiB": 128,
    "name": "ml.r5.4xlarge",
    "vcpuNum": 16
   },
   {
    "_defaultOrder": 43,
    "_isFastLaunch": false,
    "category": "Memory Optimized",
    "gpuNum": 0,
    "hideHardwareSpecs": false,
    "memoryGiB": 256,
    "name": "ml.r5.8xlarge",
    "vcpuNum": 32
   },
   {
    "_defaultOrder": 44,
    "_isFastLaunch": false,
    "category": "Memory Optimized",
    "gpuNum": 0,
    "hideHardwareSpecs": false,
    "memoryGiB": 384,
    "name": "ml.r5.12xlarge",
    "vcpuNum": 48
   },
   {
    "_defaultOrder": 45,
    "_isFastLaunch": false,
    "category": "Memory Optimized",
    "gpuNum": 0,
    "hideHardwareSpecs": false,
    "memoryGiB": 512,
    "name": "ml.r5.16xlarge",
    "vcpuNum": 64
   },
   {
    "_defaultOrder": 46,
    "_isFastLaunch": false,
    "category": "Memory Optimized",
    "gpuNum": 0,
    "hideHardwareSpecs": false,
    "memoryGiB": 768,
    "name": "ml.r5.24xlarge",
    "vcpuNum": 96
   },
   {
    "_defaultOrder": 47,
    "_isFastLaunch": false,
    "category": "Accelerated computing",
    "gpuNum": 1,
    "hideHardwareSpecs": false,
    "memoryGiB": 16,
    "name": "ml.g5.xlarge",
    "vcpuNum": 4
   },
   {
    "_defaultOrder": 48,
    "_isFastLaunch": false,
    "category": "Accelerated computing",
    "gpuNum": 1,
    "hideHardwareSpecs": false,
    "memoryGiB": 32,
    "name": "ml.g5.2xlarge",
    "vcpuNum": 8
   },
   {
    "_defaultOrder": 49,
    "_isFastLaunch": false,
    "category": "Accelerated computing",
    "gpuNum": 1,
    "hideHardwareSpecs": false,
    "memoryGiB": 64,
    "name": "ml.g5.4xlarge",
    "vcpuNum": 16
   },
   {
    "_defaultOrder": 50,
    "_isFastLaunch": false,
    "category": "Accelerated computing",
    "gpuNum": 1,
    "hideHardwareSpecs": false,
    "memoryGiB": 128,
    "name": "ml.g5.8xlarge",
    "vcpuNum": 32
   },
   {
    "_defaultOrder": 51,
    "_isFastLaunch": false,
    "category": "Accelerated computing",
    "gpuNum": 1,
    "hideHardwareSpecs": false,
    "memoryGiB": 256,
    "name": "ml.g5.16xlarge",
    "vcpuNum": 64
   },
   {
    "_defaultOrder": 52,
    "_isFastLaunch": false,
    "category": "Accelerated computing",
    "gpuNum": 4,
    "hideHardwareSpecs": false,
    "memoryGiB": 192,
    "name": "ml.g5.12xlarge",
    "vcpuNum": 48
   },
   {
    "_defaultOrder": 53,
    "_isFastLaunch": false,
    "category": "Accelerated computing",
    "gpuNum": 4,
    "hideHardwareSpecs": false,
    "memoryGiB": 384,
    "name": "ml.g5.24xlarge",
    "vcpuNum": 96
   },
   {
    "_defaultOrder": 54,
    "_isFastLaunch": false,
    "category": "Accelerated computing",
    "gpuNum": 8,
    "hideHardwareSpecs": false,
    "memoryGiB": 768,
    "name": "ml.g5.48xlarge",
    "vcpuNum": 192
   },
   {
    "_defaultOrder": 55,
    "_isFastLaunch": false,
    "category": "Accelerated computing",
    "gpuNum": 8,
    "hideHardwareSpecs": false,
    "memoryGiB": 1152,
    "name": "ml.p4d.24xlarge",
    "vcpuNum": 96
   },
   {
    "_defaultOrder": 56,
    "_isFastLaunch": false,
    "category": "Accelerated computing",
    "gpuNum": 8,
    "hideHardwareSpecs": false,
    "memoryGiB": 1152,
    "name": "ml.p4de.24xlarge",
    "vcpuNum": 96
   },
   {
    "_defaultOrder": 57,
    "_isFastLaunch": false,
    "category": "Accelerated computing",
    "gpuNum": 0,
    "hideHardwareSpecs": false,
    "memoryGiB": 32,
    "name": "ml.trn1.2xlarge",
    "vcpuNum": 8
   },
   {
    "_defaultOrder": 58,
    "_isFastLaunch": false,
    "category": "Accelerated computing",
    "gpuNum": 0,
    "hideHardwareSpecs": false,
    "memoryGiB": 512,
    "name": "ml.trn1.32xlarge",
    "vcpuNum": 128
   },
   {
    "_defaultOrder": 59,
    "_isFastLaunch": false,
    "category": "Accelerated computing",
    "gpuNum": 0,
    "hideHardwareSpecs": false,
    "memoryGiB": 512,
    "name": "ml.trn1n.32xlarge",
    "vcpuNum": 128
   }
  ],
  "instance_type": "ml.t3.medium",
  "kernelspec": {
   "display_name": "Python 3 (Data Science 3.0)",
   "language": "python",
   "name": "python3__SAGEMAKER_INTERNAL__arn:aws:sagemaker:us-east-1:081325390199:image/sagemaker-data-science-310-v1"
  },
  "language_info": {
   "codemirror_mode": {
    "name": "ipython",
    "version": 3
   },
   "file_extension": ".py",
   "mimetype": "text/x-python",
   "name": "python",
   "nbconvert_exporter": "python",
   "pygments_lexer": "ipython3",
   "version": "3.10.6"
  }
 },
 "nbformat": 4,
 "nbformat_minor": 5
}
